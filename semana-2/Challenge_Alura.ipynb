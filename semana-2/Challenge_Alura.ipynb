{
  "nbformat": 4,
  "nbformat_minor": 0,
  "metadata": {
    "colab": {
      "provenance": [],
      "authorship_tag": "ABX9TyOuuT6wD9FzjRtUjUw3DIgZ",
      "include_colab_link": true
    },
    "kernelspec": {
      "name": "python3",
      "display_name": "Python 3"
    },
    "language_info": {
      "name": "python"
    }
  },
  "cells": [
    {
      "cell_type": "markdown",
      "metadata": {
        "id": "view-in-github",
        "colab_type": "text"
      },
      "source": [
        "<a href=\"https://colab.research.google.com/github/GodoyLucas/Challenge-Alura/blob/main/semana-2/Challenge_Alura.ipynb\" target=\"_parent\"><img src=\"https://colab.research.google.com/assets/colab-badge.svg\" alt=\"Open In Colab\"/></a>"
      ]
    },
    {
      "cell_type": "markdown",
      "source": [
        "# Challenge de Data Science - Semana 2"
      ],
      "metadata": {
        "id": "v6GwXxbS7gym"
      }
    },
    {
      "cell_type": "markdown",
      "source": [
        "<div align=\"center\"> <img src=\"https://i.imgur.com/oxab3uu.png\" width=\"800px\" /> </div>"
      ],
      "metadata": {
        "id": "L9bKFjBN7ksh"
      }
    },
    {
      "cell_type": "markdown",
      "source": [
        "### Introdução"
      ],
      "metadata": {
        "id": "KlH8RWpJ7pv_"
      }
    },
    {
      "cell_type": "markdown",
      "source": [
        "Na semana 2 buscamos construir um modelo de ML que pudesse predizer de acordo com os dados bancários de cada cliente, se essa pessoa pode ou não se tornar inadimplente. Dessa vez, utilizamos o Python no ambiente do Google Colab para desenvolver nosso modelo."
      ],
      "metadata": {
        "id": "e0Q9zZM07wcN"
      }
    },
    {
      "cell_type": "markdown",
      "source": [
        "### Importando os dados"
      ],
      "metadata": {
        "id": "AIetfMsC70tk"
      }
    },
    {
      "cell_type": "code",
      "source": [
        "import pandas as pd"
      ],
      "metadata": {
        "id": "Q8pAKAwM7m0S"
      },
      "execution_count": 1,
      "outputs": []
    },
    {
      "cell_type": "code",
      "source": [],
      "metadata": {
        "id": "sLwd_65e7-FC"
      },
      "execution_count": null,
      "outputs": []
    }
  ]
}